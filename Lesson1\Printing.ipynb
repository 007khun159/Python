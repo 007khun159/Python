{
  "nbformat": 4,
  "nbformat_minor": 0,
  "metadata": {
    "colab": {
      "provenance": [],
      "collapsed_sections": [],
      "authorship_tag": "ABX9TyOocrEn+c9ZeVcs1XkOzoaw",
      "include_colab_link": true
    },
    "kernelspec": {
      "name": "python3",
      "display_name": "Python 3"
    },
    "language_info": {
      "name": "python"
    }
  },
  "cells": [
    {
      "cell_type": "markdown",
      "metadata": {
        "id": "view-in-github",
        "colab_type": "text"
      },
      "source": [
        "<a href=\"https://colab.research.google.com/github/007khun159/Python/blob/main/Lesson1%5CPrinting.ipynb\" target=\"_parent\"><img src=\"https://colab.research.google.com/assets/colab-badge.svg\" alt=\"Open In Colab\"/></a>"
      ]
    },
    {
      "cell_type": "code",
      "execution_count": 1,
      "metadata": {
        "colab": {
          "base_uri": "https://localhost:8080/"
        },
        "id": "xpDJ6Fab0quV",
        "outputId": "cd8f58ca-6e44-4def-94e2-982b24e21f40"
      },
      "outputs": [
        {
          "output_type": "stream",
          "name": "stdout",
          "text": [
            "sum is result of adding two numbers , for example, 1+1 is 2\n"
          ]
        }
      ],
      "source": [
        "print(\"sum is result of adding two numbers , for example, \"\\\n",
        "      '1+1 is',1+1)"
      ]
    },
    {
      "cell_type": "code",
      "source": [
        "print('Hell  my name is Papop'\\\n",
        "      ' I would like to excercies everyday '\\\n",
        "      'So how about you?')"
      ],
      "metadata": {
        "colab": {
          "base_uri": "https://localhost:8080/"
        },
        "id": "8MIBYeUm1I1w",
        "outputId": "74332de9-4131-4cc9-be19-6f4adfe1f992"
      },
      "execution_count": 3,
      "outputs": [
        {
          "output_type": "stream",
          "name": "stdout",
          "text": [
            "Hell  my name is Papop I would like to excercies everyday So how about you?\n"
          ]
        }
      ]
    },
    {
      "cell_type": "code",
      "source": [
        "input(\"Please Enter something right here: \")"
      ],
      "metadata": {
        "colab": {
          "base_uri": "https://localhost:8080/",
          "height": 53
        },
        "id": "6QDhAFrE1pT0",
        "outputId": "a530dd33-2c71-4e4b-f1d0-4a78f556d2c8"
      },
      "execution_count": 4,
      "outputs": [
        {
          "name": "stdout",
          "output_type": "stream",
          "text": [
            "Please Enter something right here: d\n"
          ]
        },
        {
          "output_type": "execute_result",
          "data": {
            "text/plain": [
              "'d'"
            ],
            "application/vnd.google.colaboratory.intrinsic+json": {
              "type": "string"
            }
          },
          "metadata": {},
          "execution_count": 4
        }
      ]
    },
    {
      "cell_type": "code",
      "source": [
        "input(\"How old are you? :\")"
      ],
      "metadata": {
        "colab": {
          "base_uri": "https://localhost:8080/",
          "height": 53
        },
        "id": "WAvOwwXh1wdz",
        "outputId": "4870ac88-63fe-43ed-ed9e-c002a257468f"
      },
      "execution_count": 6,
      "outputs": [
        {
          "name": "stdout",
          "output_type": "stream",
          "text": [
            "How old are you? :10\n"
          ]
        },
        {
          "output_type": "execute_result",
          "data": {
            "text/plain": [
              "'10'"
            ],
            "application/vnd.google.colaboratory.intrinsic+json": {
              "type": "string"
            }
          },
          "metadata": {},
          "execution_count": 6
        }
      ]
    },
    {
      "cell_type": "code",
      "source": [
        "print(\"I  love Python\")\n",
        "print(\"I love\",\"Python\",1234)\n",
        "print(\"I love\"+ \" Python\")\n",
        "print(\"I love\"+'Python'+124)"
      ],
      "metadata": {
        "colab": {
          "base_uri": "https://localhost:8080/",
          "height": 252
        },
        "id": "M6xNXUwM14oS",
        "outputId": "c799bf10-b3fb-47f2-8269-71609ca3d93d"
      },
      "execution_count": 10,
      "outputs": [
        {
          "output_type": "stream",
          "name": "stdout",
          "text": [
            "I  love Python\n",
            "I love Python 1234\n",
            "I love Python\n"
          ]
        },
        {
          "output_type": "error",
          "ename": "TypeError",
          "evalue": "ignored",
          "traceback": [
            "\u001b[0;31m---------------------------------------------------------------------------\u001b[0m",
            "\u001b[0;31mTypeError\u001b[0m                                 Traceback (most recent call last)",
            "\u001b[0;32m<ipython-input-10-4b3c4c6066a2>\u001b[0m in \u001b[0;36m<module>\u001b[0;34m\u001b[0m\n\u001b[1;32m      2\u001b[0m \u001b[0mprint\u001b[0m\u001b[0;34m(\u001b[0m\u001b[0;34m\"I love\"\u001b[0m\u001b[0;34m,\u001b[0m\u001b[0;34m\"Python\"\u001b[0m\u001b[0;34m,\u001b[0m\u001b[0;36m1234\u001b[0m\u001b[0;34m)\u001b[0m\u001b[0;34m\u001b[0m\u001b[0;34m\u001b[0m\u001b[0m\n\u001b[1;32m      3\u001b[0m \u001b[0mprint\u001b[0m\u001b[0;34m(\u001b[0m\u001b[0;34m\"I love\"\u001b[0m\u001b[0;34m+\u001b[0m \u001b[0;34m\" Python\"\u001b[0m\u001b[0;34m)\u001b[0m\u001b[0;34m\u001b[0m\u001b[0;34m\u001b[0m\u001b[0m\n\u001b[0;32m----> 4\u001b[0;31m \u001b[0mprint\u001b[0m\u001b[0;34m(\u001b[0m\u001b[0;34m\"I love\"\u001b[0m\u001b[0;34m+\u001b[0m\u001b[0;34m'Python'\u001b[0m\u001b[0;34m+\u001b[0m\u001b[0;36m124\u001b[0m\u001b[0;34m)\u001b[0m\u001b[0;34m\u001b[0m\u001b[0;34m\u001b[0m\u001b[0m\n\u001b[0m",
            "\u001b[0;31mTypeError\u001b[0m: can only concatenate str (not \"int\") to str"
          ]
        }
      ]
    },
    {
      "cell_type": "code",
      "source": [
        "#ตัวขั้น\n",
        "\n",
        "print(\"vanilla\",'Stawaberry','Icecream',sep = '|')\n",
        "print(\"vanilla\",'Stawaberry','Icecream',sep = '- -')"
      ],
      "metadata": {
        "colab": {
          "base_uri": "https://localhost:8080/"
        },
        "id": "mai_Hk3h2Q9n",
        "outputId": "6646ada6-34c1-4624-82ad-f23342f51020"
      },
      "execution_count": 12,
      "outputs": [
        {
          "output_type": "stream",
          "name": "stdout",
          "text": [
            "vanilla|Stawaberry|Icecream\n",
            "vanilla- -Stawaberry- -Icecream\n"
          ]
        }
      ]
    },
    {
      "cell_type": "code",
      "source": [],
      "metadata": {
        "id": "oWl7zwr-3FYo"
      },
      "execution_count": null,
      "outputs": []
    }
  ]
}